{
 "cells": [
  {
   "cell_type": "code",
   "execution_count": 1,
   "id": "61a6d4a2",
   "metadata": {},
   "outputs": [
    {
     "name": "stdout",
     "output_type": "stream",
     "text": [
      "Train shape: (24444, 12)\n",
      "Test shape:  (6112, 12)\n"
     ]
    }
   ],
   "source": [
    "import pandas as pd\n",
    "import numpy as np\n",
    "from pandas.plotting import scatter_matrix\n",
    "import matplotlib.pyplot as plt\n",
    "import seaborn as sns\n",
    "import sklearn\n",
    "\n",
    "data = pd.read_csv('master.csv')\n",
    "\n",
    "\n",
    "#Renaming the columns names for convinience\n",
    "\n",
    "data.columns = ['country', 'year', 'gender', 'age_group', 'suicide_count', 'population', 'suicides/100k', 'country-year', 'HDI for year',\n",
    "                'gdp_for_year', 'gdp_per_capita', 'generation']\n",
    "\n",
    "data = data.drop(['HDI for year', 'country-year'], axis = 1)\n",
    "data = data.dropna()\n",
    "\n",
    "#################################################################################\n",
    "from sklearn.preprocessing import LabelEncoder, OrdinalEncoder\n",
    "\n",
    "# Encode 'gender'\n",
    "le_sex = LabelEncoder()\n",
    "data['gender_enc'] = le_sex.fit_transform(data['gender'])\n",
    "\n",
    "# Encode 'age' as ordinal\n",
    "age_order = [\"5-14 years\", \"15-24 years\", \"25-34 years\", \n",
    "             \"35-54 years\", \"55-74 years\", \"75+ years\"]\n",
    "ord_age = OrdinalEncoder(categories=[age_order])\n",
    "data['age_enc'] = ord_age.fit_transform(data[['age_group']]).astype(int)\n",
    "\n",
    "# One-hot encode 'generation'\n",
    "data = pd.get_dummies(data, columns=['generation'], prefix='gen')\n",
    "gen_cols = [col for col in data.columns if col.startswith('gen_')]\n",
    "data[gen_cols] = data[gen_cols].astype(int)\n",
    "\n",
    "# Converting the column 'gdp_for_year' to float from object\n",
    "data['gdp_for_year'] = data['gdp_for_year'].str.replace(',','').astype(float)\n",
    "\n",
    "data = data.drop(['gender', 'age_group'], axis=1)\n",
    "\n",
    "##################################################################################\n",
    "\n",
    "from sklearn.model_selection import train_test_split, KFold\n",
    "import category_encoders as ce\n",
    "\n",
    "# Define features and target\n",
    "y = data['suicides/100k']\n",
    "X = data.drop(columns=['suicides/100k', 'suicide_count', 'population'])\n",
    "\n",
    "#split\n",
    "X_train, X_test, y_train, y_test = train_test_split(\n",
    "    X, y,\n",
    "    test_size=0.2,\n",
    "    random_state=42\n",
    ")\n",
    "\n",
    "# ---------------------- Target Encoding with K-Fold CV ----------------------\n",
    "\n",
    "# (a) Create an empty Series to collect fold-wise encodings\n",
    "country_te_train = pd.Series(index=X_train.index, dtype=float)\n",
    "kf = KFold(n_splits=10, shuffle=True, random_state=42)\n",
    "\n",
    "for tr_idx, val_idx in kf.split(X_train):\n",
    "    X_tr, X_val = X_train.iloc[tr_idx], X_train.iloc[val_idx]\n",
    "    y_tr = y_train.iloc[tr_idx]\n",
    "    \n",
    "    te_fold = ce.TargetEncoder(cols=['country'])\n",
    "    te_fold.fit(X_tr[['country']], y_tr)\n",
    "    \n",
    "    country_te_train.iloc[val_idx] = (\n",
    "        te_fold.transform(X_val[['country']])['country']\n",
    "    ).values\n",
    "\n",
    "# (b) Fit a final encoder on *all* training data, for the test set\n",
    "final_te = ce.TargetEncoder(cols=['country'])\n",
    "final_te.fit(X_train[['country']], y_train)\n",
    "country_te_test = final_te.transform(X_test[['country']])['country'].values\n",
    "\n",
    "# (c) Drop the raw 'country' feature and insert the encoded versions\n",
    "X_train_enc = X_train.drop(columns=['country']).copy()\n",
    "X_train_enc['country_te'] = country_te_train\n",
    "\n",
    "X_test_enc = X_test.drop(columns=['country']).copy()\n",
    "X_test_enc['country_te'] = country_te_test\n",
    "\n",
    "############################################################################\n",
    "\n",
    "\n",
    "\n",
    "# --- Now X_train_enc, X_test_enc, y_train, y_test are ready for modeling! --------\n",
    "\n",
    "print(\"Train shape:\", X_train_enc.shape)\n",
    "print(\"Test shape: \", X_test_enc.shape)\n",
    "#############################################################################\n"
   ]
  },
  {
   "cell_type": "code",
   "execution_count": 2,
   "id": "c834bf2c",
   "metadata": {},
   "outputs": [
    {
     "name": "stdout",
     "output_type": "stream",
     "text": [
      "\n",
      "=== 10-Fold CV with selective PCA on continuous features ===\n",
      "\n",
      "-> KNN\n",
      "  Fold 1/10 RMSE: 17.6374\n",
      "  Fold 2/10 RMSE: 17.5582\n",
      "  Fold 3/10 RMSE: 16.8454\n",
      "  Fold 4/10 RMSE: 19.0670\n",
      "  Fold 5/10 RMSE: 16.7360\n",
      "  Fold 6/10 RMSE: 18.9715\n",
      "  Fold 7/10 RMSE: 17.6718\n",
      "  Fold 8/10 RMSE: 17.3725\n",
      "  Fold 9/10 RMSE: 18.1148\n",
      "  Fold 10/10 RMSE: 17.1584\n",
      "-> Completed CV for KNN in 0.01 minutes\n",
      "\n",
      "-> Random Forest\n",
      "  Fold 1/10 RMSE: 18.0301\n",
      "  Fold 2/10 RMSE: 17.6742\n",
      "  Fold 3/10 RMSE: 17.5261\n",
      "  Fold 4/10 RMSE: 19.6821\n",
      "  Fold 5/10 RMSE: 17.4338\n",
      "  Fold 6/10 RMSE: 19.2678\n",
      "  Fold 7/10 RMSE: 17.1005\n",
      "  Fold 8/10 RMSE: 18.1242\n",
      "  Fold 9/10 RMSE: 18.1623\n",
      "  Fold 10/10 RMSE: 17.1722\n",
      "-> Completed CV for Random Forest in 0.57 minutes\n",
      "\n",
      "-> Decision Tree\n",
      "  Fold 1/10 RMSE: 21.5040\n",
      "  Fold 2/10 RMSE: 22.1443\n",
      "  Fold 3/10 RMSE: 21.1517\n",
      "  Fold 4/10 RMSE: 26.2087\n",
      "  Fold 5/10 RMSE: 20.0608\n",
      "  Fold 6/10 RMSE: 23.6865\n",
      "  Fold 7/10 RMSE: 20.1242\n",
      "  Fold 8/10 RMSE: 21.7842\n",
      "  Fold 9/10 RMSE: 22.1367\n",
      "  Fold 10/10 RMSE: 20.7771\n",
      "-> Completed CV for Decision Tree in 0.01 minutes\n",
      "\n",
      "-> SVR (Linear)\n"
     ]
    },
    {
     "name": "stderr",
     "output_type": "stream",
     "text": [
      "c:\\Users\\maya2\\AppData\\Local\\Programs\\Python\\Python313\\Lib\\site-packages\\sklearn\\svm\\_base.py:1249: ConvergenceWarning: Liblinear failed to converge, increase the number of iterations.\n",
      "  warnings.warn(\n"
     ]
    },
    {
     "name": "stdout",
     "output_type": "stream",
     "text": [
      "  Fold 1/10 RMSE: 19.9513\n"
     ]
    },
    {
     "name": "stderr",
     "output_type": "stream",
     "text": [
      "c:\\Users\\maya2\\AppData\\Local\\Programs\\Python\\Python313\\Lib\\site-packages\\sklearn\\svm\\_base.py:1249: ConvergenceWarning: Liblinear failed to converge, increase the number of iterations.\n",
      "  warnings.warn(\n"
     ]
    },
    {
     "name": "stdout",
     "output_type": "stream",
     "text": [
      "  Fold 2/10 RMSE: 20.0221\n"
     ]
    },
    {
     "name": "stderr",
     "output_type": "stream",
     "text": [
      "c:\\Users\\maya2\\AppData\\Local\\Programs\\Python\\Python313\\Lib\\site-packages\\sklearn\\svm\\_base.py:1249: ConvergenceWarning: Liblinear failed to converge, increase the number of iterations.\n",
      "  warnings.warn(\n"
     ]
    },
    {
     "name": "stdout",
     "output_type": "stream",
     "text": [
      "  Fold 3/10 RMSE: 18.7158\n"
     ]
    },
    {
     "name": "stderr",
     "output_type": "stream",
     "text": [
      "c:\\Users\\maya2\\AppData\\Local\\Programs\\Python\\Python313\\Lib\\site-packages\\sklearn\\svm\\_base.py:1249: ConvergenceWarning: Liblinear failed to converge, increase the number of iterations.\n",
      "  warnings.warn(\n"
     ]
    },
    {
     "name": "stdout",
     "output_type": "stream",
     "text": [
      "  Fold 4/10 RMSE: 22.3071\n"
     ]
    },
    {
     "name": "stderr",
     "output_type": "stream",
     "text": [
      "c:\\Users\\maya2\\AppData\\Local\\Programs\\Python\\Python313\\Lib\\site-packages\\sklearn\\svm\\_base.py:1249: ConvergenceWarning: Liblinear failed to converge, increase the number of iterations.\n",
      "  warnings.warn(\n"
     ]
    },
    {
     "name": "stdout",
     "output_type": "stream",
     "text": [
      "  Fold 5/10 RMSE: 21.4008\n"
     ]
    },
    {
     "name": "stderr",
     "output_type": "stream",
     "text": [
      "c:\\Users\\maya2\\AppData\\Local\\Programs\\Python\\Python313\\Lib\\site-packages\\sklearn\\svm\\_base.py:1249: ConvergenceWarning: Liblinear failed to converge, increase the number of iterations.\n",
      "  warnings.warn(\n"
     ]
    },
    {
     "name": "stdout",
     "output_type": "stream",
     "text": [
      "  Fold 6/10 RMSE: 21.2098\n"
     ]
    },
    {
     "name": "stderr",
     "output_type": "stream",
     "text": [
      "c:\\Users\\maya2\\AppData\\Local\\Programs\\Python\\Python313\\Lib\\site-packages\\sklearn\\svm\\_base.py:1249: ConvergenceWarning: Liblinear failed to converge, increase the number of iterations.\n",
      "  warnings.warn(\n"
     ]
    },
    {
     "name": "stdout",
     "output_type": "stream",
     "text": [
      "  Fold 7/10 RMSE: 18.0897\n"
     ]
    },
    {
     "name": "stderr",
     "output_type": "stream",
     "text": [
      "c:\\Users\\maya2\\AppData\\Local\\Programs\\Python\\Python313\\Lib\\site-packages\\sklearn\\svm\\_base.py:1249: ConvergenceWarning: Liblinear failed to converge, increase the number of iterations.\n",
      "  warnings.warn(\n"
     ]
    },
    {
     "name": "stdout",
     "output_type": "stream",
     "text": [
      "  Fold 8/10 RMSE: 18.1432\n"
     ]
    },
    {
     "name": "stderr",
     "output_type": "stream",
     "text": [
      "c:\\Users\\maya2\\AppData\\Local\\Programs\\Python\\Python313\\Lib\\site-packages\\sklearn\\svm\\_base.py:1249: ConvergenceWarning: Liblinear failed to converge, increase the number of iterations.\n",
      "  warnings.warn(\n"
     ]
    },
    {
     "name": "stdout",
     "output_type": "stream",
     "text": [
      "  Fold 9/10 RMSE: 21.0822\n"
     ]
    },
    {
     "name": "stderr",
     "output_type": "stream",
     "text": [
      "c:\\Users\\maya2\\AppData\\Local\\Programs\\Python\\Python313\\Lib\\site-packages\\sklearn\\svm\\_base.py:1249: ConvergenceWarning: Liblinear failed to converge, increase the number of iterations.\n",
      "  warnings.warn(\n"
     ]
    },
    {
     "name": "stdout",
     "output_type": "stream",
     "text": [
      "  Fold 10/10 RMSE: 21.7926\n",
      "-> Completed CV for SVR (Linear) in 0.76 minutes\n",
      "\n",
      "-> SVR (RBF)\n",
      "  Fold 1/10 RMSE: 17.4216\n",
      "  Fold 2/10 RMSE: 17.3476\n",
      "  Fold 3/10 RMSE: 16.4839\n",
      "  Fold 4/10 RMSE: 18.2907\n",
      "  Fold 5/10 RMSE: 17.4727\n",
      "  Fold 6/10 RMSE: 18.3157\n",
      "  Fold 7/10 RMSE: 17.8332\n",
      "  Fold 8/10 RMSE: 17.1588\n",
      "  Fold 9/10 RMSE: 18.3395\n",
      "  Fold 10/10 RMSE: 17.0736\n",
      "-> Completed CV for SVR (RBF) in 2.09 minutes\n",
      "\n",
      "-> SVR (Poly)\n",
      "  Fold 1/10 RMSE: 18.7133\n",
      "  Fold 2/10 RMSE: 18.5681\n",
      "  Fold 3/10 RMSE: 18.0352\n",
      "  Fold 4/10 RMSE: 19.2417\n",
      "  Fold 5/10 RMSE: 18.9128\n",
      "  Fold 6/10 RMSE: 20.0397\n",
      "  Fold 7/10 RMSE: 19.0295\n",
      "  Fold 8/10 RMSE: 19.0898\n",
      "  Fold 9/10 RMSE: 19.9213\n",
      "  Fold 10/10 RMSE: 18.3787\n",
      "-> Completed CV for SVR (Poly) in 6.77 minutes\n",
      "\n",
      "-> Linear Regression\n",
      "  Fold 1/10 RMSE: 18.3157\n",
      "  Fold 2/10 RMSE: 18.5235\n",
      "  Fold 3/10 RMSE: 17.2856\n",
      "  Fold 4/10 RMSE: 20.3365\n",
      "  Fold 5/10 RMSE: 19.0287\n",
      "  Fold 6/10 RMSE: 18.5906\n",
      "  Fold 7/10 RMSE: 17.1253\n",
      "  Fold 8/10 RMSE: 17.4260\n",
      "  Fold 9/10 RMSE: 19.2826\n",
      "  Fold 10/10 RMSE: 19.1972\n",
      "-> Completed CV for Linear Regression in 0.00 minutes\n",
      "\n",
      "-> Ridge Regression\n",
      "  Fold 1/10 RMSE: 18.3156\n",
      "  Fold 2/10 RMSE: 18.5235\n",
      "  Fold 3/10 RMSE: 17.2856\n",
      "  Fold 4/10 RMSE: 20.3365\n",
      "  Fold 5/10 RMSE: 19.0287\n",
      "  Fold 6/10 RMSE: 18.5906\n",
      "  Fold 7/10 RMSE: 17.1253\n",
      "  Fold 8/10 RMSE: 17.4260\n",
      "  Fold 9/10 RMSE: 19.2826\n",
      "  Fold 10/10 RMSE: 19.1972\n",
      "-> Completed CV for Ridge Regression in 0.00 minutes\n",
      "\n",
      "-> MLP\n",
      "  Fold 1/10 RMSE: 15.8599\n",
      "  Fold 2/10 RMSE: 15.9816\n",
      "  Fold 3/10 RMSE: 15.7944\n",
      "  Fold 4/10 RMSE: 16.5564\n",
      "  Fold 5/10 RMSE: 16.0418\n",
      "  Fold 6/10 RMSE: 18.1811\n",
      "  Fold 7/10 RMSE: 16.1024\n",
      "  Fold 8/10 RMSE: 16.5318\n",
      "  Fold 9/10 RMSE: 16.6569\n",
      "  Fold 10/10 RMSE: 16.1629\n",
      "-> Completed CV for MLP in 1.07 minutes\n",
      "\n",
      "=== Test Set Evaluation ===\n",
      "\n",
      "-> Training final KNN on full training set\n",
      "-> KNN Test RMSE: 17.3910\n",
      "\n",
      "-> Training final Random Forest on full training set\n",
      "-> Random Forest Test RMSE: 17.0914\n",
      "\n",
      "-> Training final Decision Tree on full training set\n",
      "-> Decision Tree Test RMSE: 20.8294\n",
      "\n",
      "-> Training final SVR (Linear) on full training set\n"
     ]
    },
    {
     "name": "stderr",
     "output_type": "stream",
     "text": [
      "c:\\Users\\maya2\\AppData\\Local\\Programs\\Python\\Python313\\Lib\\site-packages\\sklearn\\svm\\_base.py:1249: ConvergenceWarning: Liblinear failed to converge, increase the number of iterations.\n",
      "  warnings.warn(\n"
     ]
    },
    {
     "name": "stdout",
     "output_type": "stream",
     "text": [
      "-> SVR (Linear) Test RMSE: 21.4252\n",
      "\n",
      "-> Training final SVR (RBF) on full training set\n",
      "-> SVR (RBF) Test RMSE: 17.4132\n",
      "\n",
      "-> Training final SVR (Poly) on full training set\n",
      "-> SVR (Poly) Test RMSE: 18.1744\n",
      "\n",
      "-> Training final Linear Regression on full training set\n",
      "-> Linear Regression Test RMSE: 18.7912\n",
      "\n",
      "-> Training final Ridge Regression on full training set\n",
      "-> Ridge Regression Test RMSE: 18.7912\n",
      "\n",
      "-> Training final MLP on full training set\n",
      "-> MLP Test RMSE: 15.8854\n",
      "\n",
      "Cross-Validation Results:\n",
      "               Model        MAE         MSE       RMSE\n",
      "0                KNN   9.283927  314.335292  17.713306\n",
      "1      Random Forest   9.537167  325.286773  18.017341\n",
      "2      Decision Tree  11.039073  485.182148  21.957814\n",
      "3       SVR (Linear)   9.609012  413.047319  20.271479\n",
      "4          SVR (RBF)   8.571940  309.177396  17.573733\n",
      "5         SVR (Poly)   9.980645  361.093592  18.993015\n",
      "6  Linear Regression  10.905969  343.594667  18.511175\n",
      "7   Ridge Regression  10.905943  343.594659  18.511175\n",
      "8                MLP   9.148208  268.969655  16.386920\n",
      "\n",
      "Test Set Results:\n",
      "               Model   Test MAE    Test MSE  Test RMSE\n",
      "0                KNN   9.117388  302.447392  17.391015\n",
      "1      Random Forest   9.136527  292.115692  17.091392\n",
      "2      Decision Tree  10.668811  433.861857  20.829351\n",
      "3       SVR (Linear)   9.561971  459.040744  21.425236\n",
      "4          SVR (RBF)   8.444043  303.218719  17.413177\n",
      "5         SVR (Poly)   9.757507  330.307073  18.174352\n",
      "6  Linear Regression  10.781747  353.109381  18.791205\n",
      "7   Ridge Regression  10.781717  353.109133  18.791198\n",
      "8                MLP   8.862705  252.344886  15.885367\n"
     ]
    }
   ],
   "source": [
    "import pandas as pd\n",
    "import numpy as np\n",
    "import time\n",
    "from sklearn.model_selection import KFold, train_test_split\n",
    "from sklearn.neural_network import MLPRegressor\n",
    "from sklearn.preprocessing import RobustScaler\n",
    "from sklearn.decomposition import PCA\n",
    "from sklearn.compose import ColumnTransformer\n",
    "from sklearn.pipeline import Pipeline\n",
    "from sklearn.metrics import mean_absolute_error, mean_squared_error\n",
    "from sklearn.neighbors import KNeighborsRegressor\n",
    "from sklearn.tree import DecisionTreeRegressor\n",
    "from sklearn.ensemble import RandomForestRegressor\n",
    "from sklearn.svm import SVR, LinearSVR\n",
    "from sklearn.linear_model import LinearRegression, Ridge\n",
    "\n",
    "# 1. Identify feature types\n",
    "continuous_cols = ['gdp_for_year', 'gdp_per_capita', 'country_te', 'year']\n",
    "categorical_cols = [c for c in X_train_enc.columns if c not in continuous_cols]\n",
    "\n",
    "# 2. Build a ColumnTransformer that scales and PCA on continuous features; passes through categorical\n",
    "variance_retained = 0.95\n",
    "cont_pipeline = Pipeline([\n",
    "    ('scale', RobustScaler()),\n",
    "    ('pca', PCA(n_components=variance_retained, random_state=42))\n",
    "])\n",
    "ct = ColumnTransformer([\n",
    "    ('cont', cont_pipeline, continuous_cols),\n",
    "    ('cat', 'passthrough', categorical_cols)\n",
    "], verbose=False)\n",
    "\n",
    "# 3. Define models\n",
    "models = {\n",
    "    'KNN': KNeighborsRegressor(n_neighbors=11, weights='distance', p=1),\n",
    "    'Random Forest': RandomForestRegressor(n_estimators=100, random_state=42),\n",
    "    'Decision Tree': DecisionTreeRegressor(random_state=42),\n",
    "    'SVR (Linear)': LinearSVR(C=10, epsilon=1, max_iter=10000, random_state=42),\n",
    "    'SVR (RBF)': SVR(kernel='rbf', C=100, gamma=0.01),\n",
    "    'SVR (Poly)': SVR(kernel='poly', degree=3, C=1, gamma='scale'),\n",
    "    'Linear Regression': LinearRegression(),\n",
    "    'Ridge Regression': Ridge(alpha=0.1, random_state=42),\n",
    "    'MLP': MLPRegressor(random_state=42, max_iter=500),\n",
    "}\n",
    "\n",
    "# 4. 10-fold CV on training set with selective PCA\n",
    "kf = KFold(n_splits=10, shuffle=True, random_state=42)\n",
    "cv_results = []\n",
    "print(\"\\n=== 10-Fold CV with selective PCA on continuous features ===\")\n",
    "for name, estimator in models.items():\n",
    "    print(f\"\\n-> {name}\")\n",
    "    maes, mses, rmses = [], [], []\n",
    "    pipeline = Pipeline([\n",
    "        ('transform', ct),  # scale + PCA on continuous, passthrough categorical\n",
    "        ('model', estimator)\n",
    "    ])\n",
    "    start = time.time()\n",
    "    for fold, (train_idx, val_idx) in enumerate(kf.split(X_train_enc), 1):\n",
    "        X_tr = X_train_enc.iloc[train_idx]\n",
    "        X_val = X_train_enc.iloc[val_idx]\n",
    "        y_tr, y_val = y_train.iloc[train_idx], y_train.iloc[val_idx]\n",
    "        pipeline.fit(X_tr, y_tr)\n",
    "        y_pred = pipeline.predict(X_val)\n",
    "        maes.append(mean_absolute_error(y_val, y_pred))\n",
    "        mses.append(mean_squared_error(y_val, y_pred))\n",
    "        rmses.append(np.sqrt(mses[-1]))\n",
    "        print(f\"  Fold {fold}/10 RMSE: {rmses[-1]:.4f}\")\n",
    "    elapsed = time.time() - start\n",
    "    cv_results.append({'Model': name,\n",
    "                       'MAE': np.mean(maes),\n",
    "                       'MSE': np.mean(mses),\n",
    "                       'RMSE': np.mean(rmses)})\n",
    "    print(f\"-> Completed CV for {name} in {elapsed/60:.2f} minutes\")\n",
    "\n",
    "# 5. Test set evaluation\n",
    "print(\"\\n=== Test Set Evaluation ===\")\n",
    "test_results = []\n",
    "for record in cv_results:\n",
    "    name = record['Model']\n",
    "    pipeline = Pipeline([\n",
    "        ('transform', ct),\n",
    "        ('model', models[name])\n",
    "    ])\n",
    "    print(f\"\\n-> Training final {name} on full training set\")\n",
    "    pipeline.fit(X_train_enc, y_train)\n",
    "    y_pred_test = pipeline.predict(X_test_enc)\n",
    "    test_mae = mean_absolute_error(y_test, y_pred_test)\n",
    "    test_mse = mean_squared_error(y_test, y_pred_test)\n",
    "    test_rmse = np.sqrt(test_mse)\n",
    "    test_results.append({'Model': name,\n",
    "                         'Test MAE': test_mae,\n",
    "                         'Test MSE': test_mse,\n",
    "                         'Test RMSE': test_rmse})\n",
    "    print(f\"-> {name} Test RMSE: {test_rmse:.4f}\")\n",
    "\n",
    "# 6. Summaries\n",
    "cv_df = pd.DataFrame(cv_results)\n",
    "test_df = pd.DataFrame(test_results)\n",
    "\n",
    "print(\"\\nCross-Validation Results:\")\n",
    "print(cv_df)\n",
    "print(\"\\nTest Set Results:\")\n",
    "print(test_df)\n"
   ]
  }
 ],
 "metadata": {
  "kernelspec": {
   "display_name": "Python 3",
   "language": "python",
   "name": "python3"
  },
  "language_info": {
   "codemirror_mode": {
    "name": "ipython",
    "version": 3
   },
   "file_extension": ".py",
   "mimetype": "text/x-python",
   "name": "python",
   "nbconvert_exporter": "python",
   "pygments_lexer": "ipython3",
   "version": "3.13.3"
  }
 },
 "nbformat": 4,
 "nbformat_minor": 5
}
