{
 "cells": [
  {
   "cell_type": "code",
   "execution_count": 1,
   "id": "f7c838f3",
   "metadata": {},
   "outputs": [
    {
     "data": {
      "text/plain": [
       "age_group\n",
       "10-14 years      5600\n",
       "15-19 years      5600\n",
       "20-24 years      5600\n",
       "25-29 years      5600\n",
       "30-34 years      5600\n",
       "35-39 years      5600\n",
       "40-44 years      5600\n",
       "45-49 years      5600\n",
       "50-54 years      5600\n",
       "55-59 years      5600\n",
       "60-64 years      5600\n",
       "65-69 years      5600\n",
       "70-74 years      5600\n",
       "75-79 years      5600\n",
       "80+ years        5600\n",
       "15-49 years      5600\n",
       "50-69 years      5600\n",
       "80-84 years      5600\n",
       "50-74 years      5600\n",
       "10-24 years      5600\n",
       "10-19 years      5600\n",
       "10 - 54 years    5600\n",
       "15-39 years      5600\n",
       "65-74 years      5600\n",
       "75-84 years      5600\n",
       "20-54 years      5600\n",
       "Name: count, dtype: int64"
      ]
     },
     "execution_count": 1,
     "metadata": {},
     "output_type": "execute_result"
    }
   ],
   "source": [
    "import pandas as pd\n",
    "data = pd.read_csv('clean_data.csv')\n",
    "data.age_group.value_counts()"
   ]
  },
  {
   "cell_type": "code",
   "execution_count": 3,
   "id": "9ca06c20",
   "metadata": {},
   "outputs": [],
   "source": [
    "# Define the desired age groups\n",
    "desired_age_groups = [\n",
    "    '10-14 years',\n",
    "    '15-19 years',\n",
    "    '20-24 years',\n",
    "    '25-29 years',\n",
    "    '30-34 years',\n",
    "    '35-39 years',\n",
    "    '40-44 years',\n",
    "    '45-49 years',\n",
    "    '50-54 years',\n",
    "    '55-59 years',\n",
    "    '60-64 years',\n",
    "    '65-69 years',\n",
    "    '70-74 years',\n",
    "    '75-79 years',\n",
    "    '80+ years'\n",
    "]\n",
    "\n",
    "# Filter the DataFrame\n",
    "data = data[data['age_group'].isin(desired_age_groups)]\n"
   ]
  },
  {
   "cell_type": "code",
   "execution_count": 4,
   "id": "984e2ff1",
   "metadata": {},
   "outputs": [
    {
     "name": "stdout",
     "output_type": "stream",
     "text": [
      "<class 'pandas.core.frame.DataFrame'>\n",
      "Index: 84000 entries, 0 to 145577\n",
      "Data columns (total 12 columns):\n",
      " #   Column                          Non-Null Count  Dtype  \n",
      "---  ------                          --------------  -----  \n",
      " 0   country_name                    84000 non-null  object \n",
      " 1   gender                          84000 non-null  object \n",
      " 2   age_group                       84000 non-null  object \n",
      " 3   year                            84000 non-null  int64  \n",
      " 4   suicide_rate/100k               84000 non-null  float64\n",
      " 5   country_code                    84000 non-null  object \n",
      " 6   alcohol_consumption_per_capita  84000 non-null  float64\n",
      " 7   depression_rate                 84000 non-null  float64\n",
      " 8   gdp_per_capita                  84000 non-null  float64\n",
      " 9   HDI                             84000 non-null  float64\n",
      " 10  life_expectancy                 84000 non-null  float64\n",
      " 11  unemployment_rate               84000 non-null  float64\n",
      "dtypes: float64(7), int64(1), object(4)\n",
      "memory usage: 8.3+ MB\n"
     ]
    }
   ],
   "source": [
    "data.info()"
   ]
  },
  {
   "cell_type": "code",
   "execution_count": 5,
   "id": "543d81f3",
   "metadata": {},
   "outputs": [
    {
     "name": "stdout",
     "output_type": "stream",
     "text": [
      "<class 'pandas.core.frame.DataFrame'>\n",
      "Index: 84000 entries, 0 to 145577\n",
      "Data columns (total 11 columns):\n",
      " #   Column                          Non-Null Count  Dtype  \n",
      "---  ------                          --------------  -----  \n",
      " 0   country_name                    84000 non-null  object \n",
      " 1   year                            84000 non-null  int64  \n",
      " 2   suicide_rate/100k               84000 non-null  float64\n",
      " 3   alcohol_consumption_per_capita  84000 non-null  float64\n",
      " 4   depression_rate                 84000 non-null  float64\n",
      " 5   gdp_per_capita                  84000 non-null  float64\n",
      " 6   HDI                             84000 non-null  float64\n",
      " 7   life_expectancy                 84000 non-null  float64\n",
      " 8   unemployment_rate               84000 non-null  float64\n",
      " 9   gender_enc                      84000 non-null  int64  \n",
      " 10  age_enc                         84000 non-null  int64  \n",
      "dtypes: float64(7), int64(3), object(1)\n",
      "memory usage: 7.7+ MB\n"
     ]
    }
   ],
   "source": [
    "from sklearn.preprocessing import LabelEncoder, OrdinalEncoder\n",
    "\n",
    "# Encode 'gender'\n",
    "le_sex = LabelEncoder()\n",
    "data['gender_enc'] = le_sex.fit_transform(data['gender'])\n",
    "\n",
    "# Encode 'age_group'\n",
    "ord_age = OrdinalEncoder(categories=[desired_age_groups])\n",
    "data['age_enc'] = ord_age.fit_transform(data[['age_group']]).astype(int)\n",
    "\n",
    "# drop country_code\n",
    "data = data.drop(['gender', 'age_group', 'country_code'], axis=1)\n",
    "\n",
    "data.info()\n"
   ]
  },
  {
   "cell_type": "code",
   "execution_count": 6,
   "id": "2ed54384",
   "metadata": {},
   "outputs": [
    {
     "data": {
      "text/plain": [
       "144"
      ]
     },
     "execution_count": 6,
     "metadata": {},
     "output_type": "execute_result"
    }
   ],
   "source": [
    "data.country_name.nunique()"
   ]
  },
  {
   "cell_type": "code",
   "execution_count": 6,
   "id": "304c143d",
   "metadata": {},
   "outputs": [
    {
     "name": "stdout",
     "output_type": "stream",
     "text": [
      "Low representation countries:\n",
      "   country_name  years_present  total_rows\n",
      "36     Djibouti              7         210\n",
      "\n",
      "Summary:\n",
      "Total countries: 144\n",
      "Countries with low representation: 1\n"
     ]
    }
   ],
   "source": [
    "import pandas as pd\n",
    "\n",
    "# Step 1: Group by country_name and year to count rows\n",
    "country_name_year_counts = data.groupby(['country_name', 'year']).size().reset_index(name='count')\n",
    "\n",
    "# Step 2: Count how many unique years each country_name appears in\n",
    "years_per_country_name = country_name_year_counts.groupby('country_name')['year'].nunique().reset_index()\n",
    "years_per_country_name.columns = ['country_name', 'years_present']\n",
    "\n",
    "# Step 3: Count total rows per country_name\n",
    "rows_per_country_name = data['country_name'].value_counts().reset_index()\n",
    "rows_per_country_name.columns = ['country_name', 'total_rows']\n",
    "\n",
    "# Step 4: Merge both stats into one DataFrame\n",
    "country_name_stats = pd.merge(years_per_country_name, rows_per_country_name, on='country_name')\n",
    "\n",
    "# Step 5: Sort to identify countries with low representation\n",
    "country_name_stats = country_name_stats.sort_values(by=['years_present', 'total_rows'])\n",
    "\n",
    "# Step 6: Show countries with few years or few total rows\n",
    "low_rep_threshold_years = 10     # adjust this as needed\n",
    "low_rep_threshold_rows = 100     # adjust this as needed\n",
    "low_rep_countries = country_name_stats[\n",
    "    (country_name_stats['years_present'] < low_rep_threshold_years) |\n",
    "    (country_name_stats['total_rows'] < low_rep_threshold_rows)\n",
    "]\n",
    "\n",
    "print(\"Low representation countries:\")\n",
    "print(low_rep_countries)\n",
    "\n",
    "# Optional: Quick stats\n",
    "print(\"\\nSummary:\")\n",
    "print(f\"Total countries: {country_name_stats.shape[0]}\")\n",
    "print(f\"Countries with low representation: {low_rep_countries.shape[0]}\")\n"
   ]
  },
  {
   "cell_type": "code",
   "execution_count": 7,
   "id": "adfda0a5",
   "metadata": {},
   "outputs": [],
   "source": [
    "import pandas as pd\n",
    "from sklearn.model_selection import train_test_split, KFold\n",
    "from category_encoders import TargetEncoder\n",
    "import numpy as np\n",
    "from sklearn.model_selection import train_test_split, KFold\n",
    "import category_encoders as ce\n",
    "\n",
    "# Define features (X) and target (y)\n",
    "y = data['suicide_rate/100k']\n",
    "X = data.drop(['suicide_rate/100k'], axis=1)\n",
    "\n",
    "# Split into training (80%) and test (20%) sets\n",
    "X_train, X_test, y_train, y_test = train_test_split(\n",
    "    X, y, test_size=0.2, random_state=42\n",
    ")\n",
    "# ---------------------- Target Encoding with K-Fold CV ----------------------\n",
    "\n",
    "# (a) Create an empty Series to collect fold-wise encodings\n",
    "country_te_train = pd.Series(index=X_train.index, dtype=float)\n",
    "kf = KFold(n_splits=10, shuffle=True, random_state=42)\n",
    "\n",
    "for tr_idx, val_idx in kf.split(X_train):\n",
    "    X_tr, X_val = X_train.iloc[tr_idx], X_train.iloc[val_idx]\n",
    "    y_tr = y_train.iloc[tr_idx]\n",
    "    \n",
    "    te_fold = ce.TargetEncoder(cols=['country_name'])\n",
    "    te_fold.fit(X_tr[['country_name']], y_tr)\n",
    "    \n",
    "    country_te_train.iloc[val_idx] = (\n",
    "        te_fold.transform(X_val[['country_name']])['country_name']\n",
    "    ).values\n",
    "\n",
    "# (b) Fit a final encoder on *all* training data, for the test set\n",
    "final_te = ce.TargetEncoder(cols=['country_name'])\n",
    "final_te.fit(X_train[['country_name']], y_train)\n",
    "country_te_test = final_te.transform(X_test[['country_name']])['country_name'].values\n",
    "\n",
    "# (c) Drop the raw 'country_name' feature and insert the encoded versions\n",
    "X_train_enc = X_train.drop(columns=['country_name']).copy()\n",
    "X_train_enc['country_te'] = country_te_train\n",
    "\n",
    "X_test_enc = X_test.drop(columns=['country_name']).copy()\n",
    "X_test_enc['country_te'] = country_te_test"
   ]
  },
  {
   "cell_type": "code",
   "execution_count": 8,
   "id": "a9c67d28",
   "metadata": {},
   "outputs": [
    {
     "name": "stdout",
     "output_type": "stream",
     "text": [
      "\n",
      "=== Cross-validating KNN ===\n",
      "Training fold 1/10 for KNN...\n",
      "Fold 1 - MAE: 1.8909, MSE: 18.9837, RMSE: 4.3570\n",
      "Training fold 2/10 for KNN...\n",
      "Fold 2 - MAE: 1.8261, MSE: 17.1370, RMSE: 4.1397\n",
      "Training fold 3/10 for KNN...\n",
      "Fold 3 - MAE: 1.8595, MSE: 18.2015, RMSE: 4.2663\n",
      "Training fold 4/10 for KNN...\n",
      "Fold 4 - MAE: 1.8967, MSE: 18.9243, RMSE: 4.3502\n",
      "Training fold 5/10 for KNN...\n",
      "Fold 5 - MAE: 1.8639, MSE: 17.8480, RMSE: 4.2247\n",
      "Training fold 6/10 for KNN...\n",
      "Fold 6 - MAE: 1.8347, MSE: 17.6248, RMSE: 4.1982\n",
      "Training fold 7/10 for KNN...\n",
      "Fold 7 - MAE: 1.8992, MSE: 18.7854, RMSE: 4.3342\n",
      "Training fold 8/10 for KNN...\n",
      "Fold 8 - MAE: 1.8295, MSE: 16.6738, RMSE: 4.0834\n",
      "Training fold 9/10 for KNN...\n",
      "Fold 9 - MAE: 1.8508, MSE: 19.4783, RMSE: 4.4134\n",
      "Training fold 10/10 for KNN...\n",
      "Fold 10 - MAE: 1.7604, MSE: 15.2745, RMSE: 3.9083\n",
      "KNN - 10-fold CV Mean MAE: 1.8512, Mean MSE: 17.8931, Mean RMSE: 4.2275\n",
      "\n",
      "\n",
      "=== Cross-validating Random Forest ===\n",
      "Training fold 1/10 for Random Forest...\n",
      "Fold 1 - MAE: 0.9199, MSE: 4.3589, RMSE: 2.0878\n",
      "Training fold 2/10 for Random Forest...\n",
      "Fold 2 - MAE: 0.8639, MSE: 3.7578, RMSE: 1.9385\n",
      "Training fold 3/10 for Random Forest...\n",
      "Fold 3 - MAE: 0.9421, MSE: 5.3854, RMSE: 2.3206\n",
      "Training fold 4/10 for Random Forest...\n",
      "Fold 4 - MAE: 0.9620, MSE: 6.7067, RMSE: 2.5897\n",
      "Training fold 5/10 for Random Forest...\n",
      "Fold 5 - MAE: 0.9178, MSE: 4.4916, RMSE: 2.1193\n",
      "Training fold 6/10 for Random Forest...\n",
      "Fold 6 - MAE: 0.9725, MSE: 5.7351, RMSE: 2.3948\n",
      "Training fold 7/10 for Random Forest...\n",
      "Fold 7 - MAE: 0.8608, MSE: 3.2648, RMSE: 1.8069\n",
      "Training fold 8/10 for Random Forest...\n",
      "Fold 8 - MAE: 0.9004, MSE: 3.7988, RMSE: 1.9490\n",
      "Training fold 9/10 for Random Forest...\n",
      "Fold 9 - MAE: 0.9051, MSE: 3.9989, RMSE: 1.9997\n",
      "Training fold 10/10 for Random Forest...\n",
      "Fold 10 - MAE: 0.9444, MSE: 5.0773, RMSE: 2.2533\n",
      "Random Forest - 10-fold CV Mean MAE: 0.9189, Mean MSE: 4.6575, Mean RMSE: 2.1460\n",
      "\n",
      "\n",
      "=== Cross-validating Decision Tree ===\n",
      "Training fold 1/10 for Decision Tree...\n",
      "Fold 1 - MAE: 1.1845, MSE: 9.9730, RMSE: 3.1580\n",
      "Training fold 2/10 for Decision Tree...\n",
      "Fold 2 - MAE: 1.1044, MSE: 7.6206, RMSE: 2.7605\n",
      "Training fold 3/10 for Decision Tree...\n",
      "Fold 3 - MAE: 1.2180, MSE: 12.8161, RMSE: 3.5800\n",
      "Training fold 4/10 for Decision Tree...\n",
      "Fold 4 - MAE: 1.2438, MSE: 15.7047, RMSE: 3.9629\n",
      "Training fold 5/10 for Decision Tree...\n",
      "Fold 5 - MAE: 1.2156, MSE: 12.4641, RMSE: 3.5305\n",
      "Training fold 6/10 for Decision Tree...\n",
      "Fold 6 - MAE: 1.2118, MSE: 12.1972, RMSE: 3.4925\n",
      "Training fold 7/10 for Decision Tree...\n",
      "Fold 7 - MAE: 1.0552, MSE: 6.1076, RMSE: 2.4713\n",
      "Training fold 8/10 for Decision Tree...\n",
      "Fold 8 - MAE: 1.1556, MSE: 8.8416, RMSE: 2.9735\n",
      "Training fold 9/10 for Decision Tree...\n",
      "Fold 9 - MAE: 1.0897, MSE: 7.2233, RMSE: 2.6876\n",
      "Training fold 10/10 for Decision Tree...\n",
      "Fold 10 - MAE: 1.1755, MSE: 8.8651, RMSE: 2.9774\n",
      "Decision Tree - 10-fold CV Mean MAE: 1.1654, Mean MSE: 10.1813, Mean RMSE: 3.1594\n",
      "\n",
      "\n",
      "=== Cross-validating MLP ===\n",
      "Training fold 1/10 for MLP...\n"
     ]
    },
    {
     "name": "stderr",
     "output_type": "stream",
     "text": [
      "c:\\Users\\maya2\\AppData\\Local\\Programs\\Python\\Python313\\Lib\\site-packages\\sklearn\\neural_network\\_multilayer_perceptron.py:691: ConvergenceWarning: Stochastic Optimizer: Maximum iterations (500) reached and the optimization hasn't converged yet.\n",
      "  warnings.warn(\n"
     ]
    },
    {
     "name": "stdout",
     "output_type": "stream",
     "text": [
      "Fold 1 - MAE: 3.3907, MSE: 28.3018, RMSE: 5.3199\n",
      "Training fold 2/10 for MLP...\n"
     ]
    },
    {
     "name": "stderr",
     "output_type": "stream",
     "text": [
      "c:\\Users\\maya2\\AppData\\Local\\Programs\\Python\\Python313\\Lib\\site-packages\\sklearn\\neural_network\\_multilayer_perceptron.py:691: ConvergenceWarning: Stochastic Optimizer: Maximum iterations (500) reached and the optimization hasn't converged yet.\n",
      "  warnings.warn(\n"
     ]
    },
    {
     "name": "stdout",
     "output_type": "stream",
     "text": [
      "Fold 2 - MAE: 3.3834, MSE: 28.1738, RMSE: 5.3079\n",
      "Training fold 3/10 for MLP...\n"
     ]
    },
    {
     "name": "stderr",
     "output_type": "stream",
     "text": [
      "c:\\Users\\maya2\\AppData\\Local\\Programs\\Python\\Python313\\Lib\\site-packages\\sklearn\\neural_network\\_multilayer_perceptron.py:691: ConvergenceWarning: Stochastic Optimizer: Maximum iterations (500) reached and the optimization hasn't converged yet.\n",
      "  warnings.warn(\n"
     ]
    },
    {
     "name": "stdout",
     "output_type": "stream",
     "text": [
      "Fold 3 - MAE: 3.3493, MSE: 26.8710, RMSE: 5.1837\n",
      "Training fold 4/10 for MLP...\n"
     ]
    },
    {
     "name": "stderr",
     "output_type": "stream",
     "text": [
      "c:\\Users\\maya2\\AppData\\Local\\Programs\\Python\\Python313\\Lib\\site-packages\\sklearn\\neural_network\\_multilayer_perceptron.py:691: ConvergenceWarning: Stochastic Optimizer: Maximum iterations (500) reached and the optimization hasn't converged yet.\n",
      "  warnings.warn(\n"
     ]
    },
    {
     "name": "stdout",
     "output_type": "stream",
     "text": [
      "Fold 4 - MAE: 3.2898, MSE: 26.0403, RMSE: 5.1030\n",
      "Training fold 5/10 for MLP...\n"
     ]
    },
    {
     "name": "stderr",
     "output_type": "stream",
     "text": [
      "c:\\Users\\maya2\\AppData\\Local\\Programs\\Python\\Python313\\Lib\\site-packages\\sklearn\\neural_network\\_multilayer_perceptron.py:691: ConvergenceWarning: Stochastic Optimizer: Maximum iterations (500) reached and the optimization hasn't converged yet.\n",
      "  warnings.warn(\n"
     ]
    },
    {
     "name": "stdout",
     "output_type": "stream",
     "text": [
      "Fold 5 - MAE: 3.3416, MSE: 26.5759, RMSE: 5.1552\n",
      "Training fold 6/10 for MLP...\n"
     ]
    },
    {
     "name": "stderr",
     "output_type": "stream",
     "text": [
      "c:\\Users\\maya2\\AppData\\Local\\Programs\\Python\\Python313\\Lib\\site-packages\\sklearn\\neural_network\\_multilayer_perceptron.py:691: ConvergenceWarning: Stochastic Optimizer: Maximum iterations (500) reached and the optimization hasn't converged yet.\n",
      "  warnings.warn(\n"
     ]
    },
    {
     "name": "stdout",
     "output_type": "stream",
     "text": [
      "Fold 6 - MAE: 3.3516, MSE: 26.4129, RMSE: 5.1393\n",
      "Training fold 7/10 for MLP...\n",
      "Fold 7 - MAE: 3.3276, MSE: 27.3827, RMSE: 5.2329\n",
      "Training fold 8/10 for MLP...\n"
     ]
    },
    {
     "name": "stderr",
     "output_type": "stream",
     "text": [
      "c:\\Users\\maya2\\AppData\\Local\\Programs\\Python\\Python313\\Lib\\site-packages\\sklearn\\neural_network\\_multilayer_perceptron.py:691: ConvergenceWarning: Stochastic Optimizer: Maximum iterations (500) reached and the optimization hasn't converged yet.\n",
      "  warnings.warn(\n"
     ]
    },
    {
     "name": "stdout",
     "output_type": "stream",
     "text": [
      "Fold 8 - MAE: 3.3672, MSE: 28.1155, RMSE: 5.3024\n",
      "Training fold 9/10 for MLP...\n"
     ]
    },
    {
     "name": "stderr",
     "output_type": "stream",
     "text": [
      "c:\\Users\\maya2\\AppData\\Local\\Programs\\Python\\Python313\\Lib\\site-packages\\sklearn\\neural_network\\_multilayer_perceptron.py:691: ConvergenceWarning: Stochastic Optimizer: Maximum iterations (500) reached and the optimization hasn't converged yet.\n",
      "  warnings.warn(\n"
     ]
    },
    {
     "name": "stdout",
     "output_type": "stream",
     "text": [
      "Fold 9 - MAE: 3.3517, MSE: 26.6705, RMSE: 5.1643\n",
      "Training fold 10/10 for MLP...\n"
     ]
    },
    {
     "name": "stderr",
     "output_type": "stream",
     "text": [
      "c:\\Users\\maya2\\AppData\\Local\\Programs\\Python\\Python313\\Lib\\site-packages\\sklearn\\neural_network\\_multilayer_perceptron.py:691: ConvergenceWarning: Stochastic Optimizer: Maximum iterations (500) reached and the optimization hasn't converged yet.\n",
      "  warnings.warn(\n"
     ]
    },
    {
     "name": "stdout",
     "output_type": "stream",
     "text": [
      "Fold 10 - MAE: 3.3412, MSE: 26.2305, RMSE: 5.1216\n",
      "MLP - 10-fold CV Mean MAE: 3.3494, Mean MSE: 27.0775, Mean RMSE: 5.2030\n",
      "\n",
      "\n",
      "=== Cross-validating Linear Regression ===\n",
      "Training fold 1/10 for Linear Regression...\n",
      "Fold 1 - MAE: 10.9681, MSE: 284.1191, RMSE: 16.8558\n",
      "Training fold 2/10 for Linear Regression...\n",
      "Fold 2 - MAE: 10.8667, MSE: 279.4363, RMSE: 16.7163\n",
      "Training fold 3/10 for Linear Regression...\n",
      "Fold 3 - MAE: 10.9174, MSE: 288.2614, RMSE: 16.9783\n",
      "Training fold 4/10 for Linear Regression...\n",
      "Fold 4 - MAE: 11.1092, MSE: 296.4649, RMSE: 17.2182\n",
      "Training fold 5/10 for Linear Regression...\n",
      "Fold 5 - MAE: 10.9289, MSE: 286.6396, RMSE: 16.9304\n",
      "Training fold 6/10 for Linear Regression...\n",
      "Fold 6 - MAE: 10.8309, MSE: 274.0782, RMSE: 16.5553\n",
      "Training fold 7/10 for Linear Regression...\n",
      "Fold 7 - MAE: 10.6431, MSE: 276.2378, RMSE: 16.6204\n",
      "Training fold 8/10 for Linear Regression...\n",
      "Fold 8 - MAE: 10.5877, MSE: 261.7886, RMSE: 16.1799\n",
      "Training fold 9/10 for Linear Regression...\n",
      "Fold 9 - MAE: 11.0597, MSE: 309.6613, RMSE: 17.5972\n",
      "Training fold 10/10 for Linear Regression...\n",
      "Fold 10 - MAE: 10.8316, MSE: 284.0585, RMSE: 16.8540\n",
      "Linear Regression - 10-fold CV Mean MAE: 10.8743, Mean MSE: 284.0746, Mean RMSE: 16.8506\n",
      "\n",
      "\n",
      "=== Cross-validating Ridge Regression ===\n",
      "Training fold 1/10 for Ridge Regression...\n",
      "Fold 1 - MAE: 10.9680, MSE: 284.1193, RMSE: 16.8558\n",
      "Training fold 2/10 for Ridge Regression...\n",
      "Fold 2 - MAE: 10.8666, MSE: 279.4361, RMSE: 16.7163\n",
      "Training fold 3/10 for Ridge Regression...\n",
      "Fold 3 - MAE: 10.9174, MSE: 288.2617, RMSE: 16.9783\n",
      "Training fold 4/10 for Ridge Regression...\n",
      "Fold 4 - MAE: 11.1092, MSE: 296.4645, RMSE: 17.2181\n",
      "Training fold 5/10 for Ridge Regression...\n",
      "Fold 5 - MAE: 10.9288, MSE: 286.6399, RMSE: 16.9304\n",
      "Training fold 6/10 for Ridge Regression...\n",
      "Fold 6 - MAE: 10.8308, MSE: 274.0781, RMSE: 16.5553\n",
      "Training fold 7/10 for Ridge Regression...\n",
      "Fold 7 - MAE: 10.6430, MSE: 276.2375, RMSE: 16.6204\n",
      "Training fold 8/10 for Ridge Regression...\n",
      "Fold 8 - MAE: 10.5876, MSE: 261.7888, RMSE: 16.1799\n",
      "Training fold 9/10 for Ridge Regression...\n",
      "Fold 9 - MAE: 11.0596, MSE: 309.6615, RMSE: 17.5972\n",
      "Training fold 10/10 for Ridge Regression...\n",
      "Fold 10 - MAE: 10.8315, MSE: 284.0583, RMSE: 16.8540\n",
      "Ridge Regression - 10-fold CV Mean MAE: 10.8743, Mean MSE: 284.0746, Mean RMSE: 16.8506\n",
      "\n",
      "\n",
      "=== Cross-validating Poly SVM ===\n",
      "Training fold 1/10 for Poly SVM...\n",
      "Fold 1 - MAE: 7.8311, MSE: 219.4674, RMSE: 14.8144\n",
      "Training fold 2/10 for Poly SVM...\n",
      "Fold 2 - MAE: 7.6671, MSE: 215.0442, RMSE: 14.6644\n",
      "Training fold 3/10 for Poly SVM...\n",
      "Fold 3 - MAE: 7.5869, MSE: 209.2285, RMSE: 14.4647\n",
      "Training fold 4/10 for Poly SVM...\n",
      "Fold 4 - MAE: 7.7953, MSE: 228.1351, RMSE: 15.1041\n",
      "Training fold 5/10 for Poly SVM...\n",
      "Fold 5 - MAE: 7.7429, MSE: 224.8590, RMSE: 14.9953\n",
      "Training fold 6/10 for Poly SVM...\n",
      "Fold 6 - MAE: 7.6753, MSE: 214.0739, RMSE: 14.6313\n",
      "Training fold 7/10 for Poly SVM...\n",
      "Fold 7 - MAE: 7.5449, MSE: 211.5346, RMSE: 14.5442\n",
      "Training fold 8/10 for Poly SVM...\n",
      "Fold 8 - MAE: 7.7094, MSE: 216.2598, RMSE: 14.7058\n",
      "Training fold 9/10 for Poly SVM...\n",
      "Fold 9 - MAE: 7.7041, MSE: 234.2474, RMSE: 15.3051\n",
      "Training fold 10/10 for Poly SVM...\n",
      "Fold 10 - MAE: 7.6263, MSE: 211.7884, RMSE: 14.5530\n",
      "Poly SVM - 10-fold CV Mean MAE: 7.6883, Mean MSE: 218.4638, Mean RMSE: 14.7782\n",
      "\n",
      "\n",
      "=== Cross-validating Linear SVM ===\n",
      "Training fold 1/10 for Linear SVM...\n",
      "Fold 1 - MAE: 9.7613, MSE: 360.4642, RMSE: 18.9859\n",
      "Training fold 2/10 for Linear SVM...\n",
      "Fold 2 - MAE: 9.5481, MSE: 347.7565, RMSE: 18.6482\n",
      "Training fold 3/10 for Linear SVM...\n",
      "Fold 3 - MAE: 9.5382, MSE: 358.3191, RMSE: 18.9293\n",
      "Training fold 4/10 for Linear SVM...\n",
      "Fold 4 - MAE: 9.5563, MSE: 353.7567, RMSE: 18.8084\n",
      "Training fold 5/10 for Linear SVM...\n",
      "Fold 5 - MAE: 9.6615, MSE: 360.4740, RMSE: 18.9862\n",
      "Training fold 6/10 for Linear SVM...\n",
      "Fold 6 - MAE: 9.4212, MSE: 332.4781, RMSE: 18.2340\n",
      "Training fold 7/10 for Linear SVM...\n",
      "Fold 7 - MAE: 9.2965, MSE: 337.0717, RMSE: 18.3595\n",
      "Training fold 8/10 for Linear SVM...\n",
      "Fold 8 - MAE: 9.3802, MSE: 327.9196, RMSE: 18.1085\n",
      "Training fold 9/10 for Linear SVM...\n",
      "Fold 9 - MAE: 9.7115, MSE: 384.2156, RMSE: 19.6014\n",
      "Training fold 10/10 for Linear SVM...\n",
      "Fold 10 - MAE: 9.4994, MSE: 350.6469, RMSE: 18.7256\n",
      "Linear SVM - 10-fold CV Mean MAE: 9.5374, Mean MSE: 351.3102, Mean RMSE: 18.7387\n",
      "\n",
      "\n",
      "=== Cross-validating RBF SVM ===\n",
      "Training fold 1/10 for RBF SVM...\n",
      "Fold 1 - MAE: 4.5772, MSE: 107.2473, RMSE: 10.3560\n",
      "Training fold 2/10 for RBF SVM...\n",
      "Fold 2 - MAE: 4.3417, MSE: 100.7303, RMSE: 10.0364\n",
      "Training fold 3/10 for RBF SVM...\n",
      "Fold 3 - MAE: 4.3511, MSE: 98.4825, RMSE: 9.9238\n",
      "Training fold 4/10 for RBF SVM...\n",
      "Fold 4 - MAE: 4.4714, MSE: 103.6750, RMSE: 10.1821\n",
      "Training fold 5/10 for RBF SVM...\n",
      "Fold 5 - MAE: 4.3944, MSE: 100.6906, RMSE: 10.0345\n",
      "Training fold 6/10 for RBF SVM...\n",
      "Fold 6 - MAE: 4.3569, MSE: 93.8083, RMSE: 9.6855\n",
      "Training fold 7/10 for RBF SVM...\n",
      "Fold 7 - MAE: 4.2708, MSE: 99.2056, RMSE: 9.9602\n",
      "Training fold 8/10 for RBF SVM...\n",
      "Fold 8 - MAE: 4.3470, MSE: 96.2136, RMSE: 9.8089\n",
      "Training fold 9/10 for RBF SVM...\n",
      "Fold 9 - MAE: 4.4136, MSE: 109.4871, RMSE: 10.4636\n",
      "Training fold 10/10 for RBF SVM...\n",
      "Fold 10 - MAE: 4.3488, MSE: 94.0376, RMSE: 9.6973\n",
      "RBF SVM - 10-fold CV Mean MAE: 4.3873, Mean MSE: 100.3578, Mean RMSE: 10.0148\n",
      "\n",
      "=== 10-Fold CV Results ===\n",
      "                         MAE         MSE       RMSE\n",
      "Model                                              \n",
      "KNN                 1.851163   17.893127   4.227537\n",
      "Random Forest       0.918902    4.657524   2.145975\n",
      "Decision Tree       1.165395   10.181334   3.159422\n",
      "MLP                 3.349429   27.077492   5.203024\n",
      "Linear Regression  10.874324  284.074576  16.850586\n",
      "Ridge Regression   10.874257  284.074567  16.850586\n",
      "Poly SVM            7.688334  218.463828  14.778235\n",
      "Linear SVM          9.537420  351.310240  18.738705\n",
      "RBF SVM             4.387282  100.357798  10.014831\n"
     ]
    },
    {
     "data": {
      "image/png": "[encoded data removed]",
      "text/plain": [
       "<Figure size 1200x600 with 1 Axes>"
      ]
     },
     "metadata": {},
     "output_type": "display_data"
    }
   ],
   "source": [
    "import numpy as np\n",
    "import pandas as pd\n",
    "import matplotlib.pyplot as plt\n",
    "from sklearn.model_selection import KFold, train_test_split\n",
    "from sklearn.metrics import mean_absolute_error, mean_squared_error, root_mean_squared_error\n",
    "from sklearn.neighbors import KNeighborsRegressor\n",
    "from sklearn.ensemble import RandomForestRegressor\n",
    "from sklearn.tree import DecisionTreeRegressor\n",
    "from sklearn.neural_network import MLPRegressor\n",
    "from sklearn.linear_model import LinearRegression, Ridge\n",
    "from sklearn.svm import SVR, LinearSVR\n",
    "from sklearn.pipeline import Pipeline\n",
    "from sklearn.preprocessing import StandardScaler\n",
    "from sklearn.pipeline import make_pipeline\n",
    "\n",
    "models = {\n",
    "    'KNN': make_pipeline(StandardScaler(), KNeighborsRegressor()),\n",
    "    'Random Forest': RandomForestRegressor(random_state=42),\n",
    "    'Decision Tree': DecisionTreeRegressor(random_state=42),\n",
    "    'MLP': make_pipeline(StandardScaler(), MLPRegressor(random_state=42, max_iter=500)),\n",
    "    'Linear Regression': make_pipeline(StandardScaler(), LinearRegression()),\n",
    "    'Ridge Regression': make_pipeline(StandardScaler(), Ridge(random_state=42)),\n",
    "    'Poly SVM': make_pipeline(StandardScaler(), SVR(kernel='poly', degree=3, C=1, gamma='scale')),\n",
    "    'Linear SVM': make_pipeline(StandardScaler(), LinearSVR(C=1.0, epsilon=0.1, max_iter=10000, random_state=42)),\n",
    "    'RBF SVM': make_pipeline(StandardScaler(), SVR(kernel='rbf', C=1.0, gamma='scale')),\n",
    "}\n",
    "\n",
    "\n",
    "# 10-Fold cross-validation on the training set\n",
    "kf = KFold(n_splits=10, shuffle=True, random_state=42)\n",
    "cv_results = []\n",
    "\n",
    "for name, model in models.items():\n",
    "    print(f\"\\n=== Cross-validating {name} ===\")\n",
    "    fold_maes = []\n",
    "    fold_mses = []\n",
    "    fold_rmses = []\n",
    "    for fold, (train_idx, val_idx) in enumerate(kf.split(X_train_enc), 1):\n",
    "        print(f\"Training fold {fold}/10 for {name}...\")\n",
    "        X_tr, X_val = X_train_enc.iloc[train_idx], X_train_enc.iloc[val_idx]\n",
    "        y_tr, y_val = y_train.iloc[train_idx], y_train.iloc[val_idx]\n",
    "        \n",
    "        model.fit(X_tr, y_tr)\n",
    "        y_pred = model.predict(X_val)\n",
    "        \n",
    "        mae = mean_absolute_error(y_val, y_pred)\n",
    "        mse = mean_squared_error(y_val, y_pred)\n",
    "        rmse = np.sqrt(mse)\n",
    "        fold_maes.append(mae)\n",
    "        fold_mses.append(mse)\n",
    "        fold_rmses.append(rmse)\n",
    "        print(f\"Fold {fold} - MAE: {mae:.4f}, MSE: {mse:.4f}, RMSE: {rmse:.4f}\")\n",
    "    \n",
    "    cv_results.append({\n",
    "        'Model': name,\n",
    "        'MAE': np.mean(fold_maes),\n",
    "        'MSE': np.mean(fold_mses),\n",
    "        'RMSE': np.mean(fold_rmses)\n",
    "    })\n",
    "    print(f\"{name} - 10-fold CV Mean MAE: {np.mean(fold_maes):.4f}, \"\n",
    "          f\"Mean MSE: {np.mean(fold_mses):.4f}, Mean RMSE: {np.mean(fold_rmses):.4f}\\n\")\n",
    "\n",
    "# Summarize CV results\n",
    "df_cv = pd.DataFrame(cv_results).set_index('Model')\n",
    "print(\"=== 10-Fold CV Results ===\")\n",
    "print(df_cv)\n",
    "\n",
    "# Plot CV performance\n",
    "ax = df_cv.plot(kind='bar', figsize=(12, 6), color='lightblue')\n",
    "ax.set_title('10-Fold CV Performance Comparison')\n",
    "ax.set_ylabel('Error')\n",
    "plt.tight_layout()\n",
    "plt.show()"
   ]
  },
  {
   "cell_type": "code",
   "execution_count": 9,
   "id": "a91b1382",
   "metadata": {},
   "outputs": [
    {
     "name": "stdout",
     "output_type": "stream",
     "text": [
      "\n",
      "=== Training KNN on full training set and evaluating on test set ===\n",
      "KNN - Test MAE: 1.7365, MSE: 14.9724, RMSE: 3.8694\n",
      "\n",
      "=== Training Random Forest on full training set and evaluating on test set ===\n",
      "Random Forest - Test MAE: 0.7552, MSE: 2.7796, RMSE: 1.6672\n",
      "\n",
      "=== Training Decision Tree on full training set and evaluating on test set ===\n",
      "Decision Tree - Test MAE: 0.9854, MSE: 9.0286, RMSE: 3.0048\n",
      "\n",
      "=== Training MLP on full training set and evaluating on test set ===\n"
     ]
    },
    {
     "name": "stderr",
     "output_type": "stream",
     "text": [
      "c:\\Users\\maya2\\AppData\\Local\\Programs\\Python\\Python313\\Lib\\site-packages\\sklearn\\neural_network\\_multilayer_perceptron.py:691: ConvergenceWarning: Stochastic Optimizer: Maximum iterations (500) reached and the optimization hasn't converged yet.\n",
      "  warnings.warn(\n"
     ]
    },
    {
     "name": "stdout",
     "output_type": "stream",
     "text": [
      "MLP - Test MAE: 3.3477, MSE: 27.0843, RMSE: 5.2043\n",
      "\n",
      "=== Training Linear Regression on full training set and evaluating on test set ===\n",
      "Linear Regression - Test MAE: 10.7971, MSE: 263.4838, RMSE: 16.2322\n",
      "\n",
      "=== Training Ridge Regression on full training set and evaluating on test set ===\n",
      "Ridge Regression - Test MAE: 10.7970, MSE: 263.4836, RMSE: 16.2322\n",
      "\n",
      "=== Training Poly SVM on full training set and evaluating on test set ===\n",
      "Poly SVM - Test MAE: 7.4595, MSE: 196.0284, RMSE: 14.0010\n",
      "\n",
      "=== Training Linear SVM on full training set and evaluating on test set ===\n",
      "Linear SVM - Test MAE: 9.3675, MSE: 320.8209, RMSE: 17.9115\n",
      "\n",
      "=== Training RBF SVM on full training set and evaluating on test set ===\n",
      "RBF SVM - Test MAE: 4.2244, MSE: 89.8306, RMSE: 9.4779\n",
      "\n",
      "=== Test Set Results ===\n",
      "                    Test MAE    Test MSE  Test RMSE\n",
      "Model                                              \n",
      "KNN                 1.736479   14.972427   3.869422\n",
      "Random Forest       0.755240    2.779642   1.667226\n",
      "Decision Tree       0.985354    9.028610   3.004765\n",
      "MLP                 3.347712   27.084289   5.204257\n",
      "Linear Regression  10.797069  263.483821  16.232185\n",
      "Ridge Regression   10.797007  263.483621  16.232179\n",
      "Poly SVM            7.459509  196.028401  14.001014\n",
      "Linear SVM          9.367485  320.820921  17.911475\n",
      "RBF SVM             4.224362   89.830647   9.477903\n",
      "\n",
      "=== CV vs Test Comparison ===\n",
      "                         MAE         MSE       RMSE   Test MAE    Test MSE  \\\n",
      "Model                                                                        \n",
      "KNN                 1.851163   17.893127   4.227537   1.736479   14.972427   \n",
      "Random Forest       0.918902    4.657524   2.145975   0.755240    2.779642   \n",
      "Decision Tree       1.165395   10.181334   3.159422   0.985354    9.028610   \n",
      "MLP                 3.349429   27.077492   5.203024   3.347712   27.084289   \n",
      "Linear Regression  10.874324  284.074576  16.850586  10.797069  263.483821   \n",
      "Ridge Regression   10.874257  284.074567  16.850586  10.797007  263.483621   \n",
      "Poly SVM            7.688334  218.463828  14.778235   7.459509  196.028401   \n",
      "Linear SVM          9.537420  351.310240  18.738705   9.367485  320.820921   \n",
      "RBF SVM             4.387282  100.357798  10.014831   4.224362   89.830647   \n",
      "\n",
      "                   Test RMSE  \n",
      "Model                         \n",
      "KNN                 3.869422  \n",
      "Random Forest       1.667226  \n",
      "Decision Tree       3.004765  \n",
      "MLP                 5.204257  \n",
      "Linear Regression  16.232185  \n",
      "Ridge Regression   16.232179  \n",
      "Poly SVM           14.001014  \n",
      "Linear SVM         17.911475  \n",
      "RBF SVM             9.477903  \n"
     ]
    }
   ],
   "source": [
    "\n",
    "# -----------------------------------------------------------------------------\n",
    "# TEST SET EVALUATION\n",
    "# -----------------------------------------------------------------------------\n",
    "\n",
    "test_results = []\n",
    "for name, model in models.items():\n",
    "    print(f\"\\n=== Training {name} on full training set and evaluating on test set ===\")\n",
    "    model.fit(X_train_enc, y_train)\n",
    "    y_pred_test = model.predict(X_test_enc)\n",
    "    \n",
    "    mae_test  = mean_absolute_error(y_test, y_pred_test)\n",
    "    mse_test  = mean_squared_error(y_test, y_pred_test)\n",
    "    rmse_test = np.sqrt(mse_test)\n",
    "    \n",
    "    test_results.append({\n",
    "        'Model': name,\n",
    "        'Test MAE': mae_test,\n",
    "        'Test MSE': mse_test,\n",
    "        'Test RMSE': rmse_test\n",
    "    })\n",
    "    print(f\"{name} - Test MAE: {mae_test:.4f}, MSE: {mse_test:.4f}, RMSE: {rmse_test:.4f}\")\n",
    "\n",
    "# Summarize Test results\n",
    "df_test = pd.DataFrame(test_results).set_index('Model')\n",
    "print(\"\\n=== Test Set Results ===\")\n",
    "print(df_test)\n",
    "\n",
    "# Merge CV and Test results for comparison\n",
    "df_combined = df_cv.join(df_test)\n",
    "print(\"\\n=== CV vs Test Comparison ===\")\n",
    "print(df_combined)\n",
    "\n",
    "# visualize comparison side by side\n",
    "# df_combined.plot(kind='bar', figsize=(14, 7), color=['lightblue', 'salmon'])\n",
    "# plt.title('CV vs Test Error Comparison')\n",
    "# plt.tight_layout()\n",
    "# plt.show()\n"
   ]
  }
 ],
 "metadata": {
  "kernelspec": {
   "display_name": "Python 3",
   "language": "python",
   "name": "python3"
  },
  "language_info": {
   "codemirror_mode": {
    "name": "ipython",
    "version": 3
   },
   "file_extension": ".py",
   "mimetype": "text/x-python",
   "name": "python",
   "nbconvert_exporter": "python",
   "pygments_lexer": "ipython3",
   "version": "3.13.3"
  }
 },
 "nbformat": 4,
 "nbformat_minor": 5
}
